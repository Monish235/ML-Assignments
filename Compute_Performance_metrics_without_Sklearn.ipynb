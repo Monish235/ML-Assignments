{
 "cells": [
  {
   "cell_type": "markdown",
   "id": "05260957",
   "metadata": {},
   "source": [
    "# Compute performance metrics for the given Y and Y_score without sklearn"
   ]
  },
  {
   "cell_type": "code",
   "execution_count": 1,
   "id": "30847e68",
   "metadata": {},
   "outputs": [],
   "source": [
    "#importing libraries which are needed\n",
    "import numpy as np\n",
    "import pandas as pd"
   ]
  },
  {
   "cell_type": "markdown",
   "id": "562c2ccd",
   "metadata": {},
   "source": [
    "## A. Compute performance metrics for the given data '5_a.csv'"
   ]
  },
  {
   "cell_type": "code",
   "execution_count": 2,
   "id": "24dadcc0",
   "metadata": {},
   "outputs": [
    {
     "data": {
      "text/html": [
       "<div>\n",
       "<style scoped>\n",
       "    .dataframe tbody tr th:only-of-type {\n",
       "        vertical-align: middle;\n",
       "    }\n",
       "\n",
       "    .dataframe tbody tr th {\n",
       "        vertical-align: top;\n",
       "    }\n",
       "\n",
       "    .dataframe thead th {\n",
       "        text-align: right;\n",
       "    }\n",
       "</style>\n",
       "<table border=\"1\" class=\"dataframe\">\n",
       "  <thead>\n",
       "    <tr style=\"text-align: right;\">\n",
       "      <th></th>\n",
       "      <th>y</th>\n",
       "      <th>proba</th>\n",
       "    </tr>\n",
       "  </thead>\n",
       "  <tbody>\n",
       "    <tr>\n",
       "      <th>0</th>\n",
       "      <td>1.0</td>\n",
       "      <td>0.637387</td>\n",
       "    </tr>\n",
       "    <tr>\n",
       "      <th>1</th>\n",
       "      <td>1.0</td>\n",
       "      <td>0.635165</td>\n",
       "    </tr>\n",
       "    <tr>\n",
       "      <th>2</th>\n",
       "      <td>1.0</td>\n",
       "      <td>0.766586</td>\n",
       "    </tr>\n",
       "    <tr>\n",
       "      <th>3</th>\n",
       "      <td>1.0</td>\n",
       "      <td>0.724564</td>\n",
       "    </tr>\n",
       "    <tr>\n",
       "      <th>4</th>\n",
       "      <td>1.0</td>\n",
       "      <td>0.889199</td>\n",
       "    </tr>\n",
       "    <tr>\n",
       "      <th>...</th>\n",
       "      <td>...</td>\n",
       "      <td>...</td>\n",
       "    </tr>\n",
       "    <tr>\n",
       "      <th>10095</th>\n",
       "      <td>1.0</td>\n",
       "      <td>0.665371</td>\n",
       "    </tr>\n",
       "    <tr>\n",
       "      <th>10096</th>\n",
       "      <td>1.0</td>\n",
       "      <td>0.607961</td>\n",
       "    </tr>\n",
       "    <tr>\n",
       "      <th>10097</th>\n",
       "      <td>1.0</td>\n",
       "      <td>0.777724</td>\n",
       "    </tr>\n",
       "    <tr>\n",
       "      <th>10098</th>\n",
       "      <td>1.0</td>\n",
       "      <td>0.846036</td>\n",
       "    </tr>\n",
       "    <tr>\n",
       "      <th>10099</th>\n",
       "      <td>1.0</td>\n",
       "      <td>0.679507</td>\n",
       "    </tr>\n",
       "  </tbody>\n",
       "</table>\n",
       "<p>10100 rows × 2 columns</p>\n",
       "</div>"
      ],
      "text/plain": [
       "         y     proba\n",
       "0      1.0  0.637387\n",
       "1      1.0  0.635165\n",
       "2      1.0  0.766586\n",
       "3      1.0  0.724564\n",
       "4      1.0  0.889199\n",
       "...    ...       ...\n",
       "10095  1.0  0.665371\n",
       "10096  1.0  0.607961\n",
       "10097  1.0  0.777724\n",
       "10098  1.0  0.846036\n",
       "10099  1.0  0.679507\n",
       "\n",
       "[10100 rows x 2 columns]"
      ]
     },
     "execution_count": 2,
     "metadata": {},
     "output_type": "execute_result"
    }
   ],
   "source": [
    "df = pd.read_csv('5_a.csv')\n",
    "df"
   ]
  },
  {
   "cell_type": "code",
   "execution_count": 3,
   "id": "91024ce3",
   "metadata": {},
   "outputs": [
    {
     "data": {
      "text/html": [
       "<div>\n",
       "<style scoped>\n",
       "    .dataframe tbody tr th:only-of-type {\n",
       "        vertical-align: middle;\n",
       "    }\n",
       "\n",
       "    .dataframe tbody tr th {\n",
       "        vertical-align: top;\n",
       "    }\n",
       "\n",
       "    .dataframe thead th {\n",
       "        text-align: right;\n",
       "    }\n",
       "</style>\n",
       "<table border=\"1\" class=\"dataframe\">\n",
       "  <thead>\n",
       "    <tr style=\"text-align: right;\">\n",
       "      <th></th>\n",
       "      <th>y</th>\n",
       "      <th>proba</th>\n",
       "      <th>y_pred</th>\n",
       "    </tr>\n",
       "  </thead>\n",
       "  <tbody>\n",
       "    <tr>\n",
       "      <th>0</th>\n",
       "      <td>1.0</td>\n",
       "      <td>0.637387</td>\n",
       "      <td>1</td>\n",
       "    </tr>\n",
       "    <tr>\n",
       "      <th>1</th>\n",
       "      <td>1.0</td>\n",
       "      <td>0.635165</td>\n",
       "      <td>1</td>\n",
       "    </tr>\n",
       "    <tr>\n",
       "      <th>2</th>\n",
       "      <td>1.0</td>\n",
       "      <td>0.766586</td>\n",
       "      <td>1</td>\n",
       "    </tr>\n",
       "    <tr>\n",
       "      <th>3</th>\n",
       "      <td>1.0</td>\n",
       "      <td>0.724564</td>\n",
       "      <td>1</td>\n",
       "    </tr>\n",
       "    <tr>\n",
       "      <th>4</th>\n",
       "      <td>1.0</td>\n",
       "      <td>0.889199</td>\n",
       "      <td>1</td>\n",
       "    </tr>\n",
       "    <tr>\n",
       "      <th>...</th>\n",
       "      <td>...</td>\n",
       "      <td>...</td>\n",
       "      <td>...</td>\n",
       "    </tr>\n",
       "    <tr>\n",
       "      <th>10095</th>\n",
       "      <td>1.0</td>\n",
       "      <td>0.665371</td>\n",
       "      <td>1</td>\n",
       "    </tr>\n",
       "    <tr>\n",
       "      <th>10096</th>\n",
       "      <td>1.0</td>\n",
       "      <td>0.607961</td>\n",
       "      <td>1</td>\n",
       "    </tr>\n",
       "    <tr>\n",
       "      <th>10097</th>\n",
       "      <td>1.0</td>\n",
       "      <td>0.777724</td>\n",
       "      <td>1</td>\n",
       "    </tr>\n",
       "    <tr>\n",
       "      <th>10098</th>\n",
       "      <td>1.0</td>\n",
       "      <td>0.846036</td>\n",
       "      <td>1</td>\n",
       "    </tr>\n",
       "    <tr>\n",
       "      <th>10099</th>\n",
       "      <td>1.0</td>\n",
       "      <td>0.679507</td>\n",
       "      <td>1</td>\n",
       "    </tr>\n",
       "  </tbody>\n",
       "</table>\n",
       "<p>10100 rows × 3 columns</p>\n",
       "</div>"
      ],
      "text/plain": [
       "         y     proba  y_pred\n",
       "0      1.0  0.637387       1\n",
       "1      1.0  0.635165       1\n",
       "2      1.0  0.766586       1\n",
       "3      1.0  0.724564       1\n",
       "4      1.0  0.889199       1\n",
       "...    ...       ...     ...\n",
       "10095  1.0  0.665371       1\n",
       "10096  1.0  0.607961       1\n",
       "10097  1.0  0.777724       1\n",
       "10098  1.0  0.846036       1\n",
       "10099  1.0  0.679507       1\n",
       "\n",
       "[10100 rows x 3 columns]"
      ]
     },
     "execution_count": 3,
     "metadata": {},
     "output_type": "execute_result"
    }
   ],
   "source": [
    "# Converting probability value to class label by 0.5 as threshold\n",
    "\n",
    "df['y_pred'] = [1 if i>0.5 else 0 for i in df['proba']]\n",
    "df"
   ]
  },
  {
   "cell_type": "code",
   "execution_count": 4,
   "id": "7fdfebe2",
   "metadata": {},
   "outputs": [
    {
     "data": {
      "text/plain": [
       "10100"
      ]
     },
     "execution_count": 4,
     "metadata": {},
     "output_type": "execute_result"
    }
   ],
   "source": [
    "len(df[df['proba'] >=0.5])   "
   ]
  },
  {
   "cell_type": "markdown",
   "id": "012cb2b6",
   "metadata": {},
   "source": [
    "***observations***\n",
    "1. This data set is highly imbalance thus positive class label >> negative class lebel"
   ]
  },
  {
   "cell_type": "code",
   "execution_count": 5,
   "id": "d70095d4",
   "metadata": {},
   "outputs": [
    {
     "data": {
      "text/html": [
       "<div>\n",
       "<style scoped>\n",
       "    .dataframe tbody tr th:only-of-type {\n",
       "        vertical-align: middle;\n",
       "    }\n",
       "\n",
       "    .dataframe tbody tr th {\n",
       "        vertical-align: top;\n",
       "    }\n",
       "\n",
       "    .dataframe thead th {\n",
       "        text-align: right;\n",
       "    }\n",
       "</style>\n",
       "<table border=\"1\" class=\"dataframe\">\n",
       "  <thead>\n",
       "    <tr style=\"text-align: right;\">\n",
       "      <th></th>\n",
       "      <th>y</th>\n",
       "      <th>proba</th>\n",
       "      <th>y_pred</th>\n",
       "    </tr>\n",
       "  </thead>\n",
       "  <tbody>\n",
       "    <tr>\n",
       "      <th>0</th>\n",
       "      <td>1.0</td>\n",
       "      <td>0.637387</td>\n",
       "      <td>1</td>\n",
       "    </tr>\n",
       "    <tr>\n",
       "      <th>1</th>\n",
       "      <td>1.0</td>\n",
       "      <td>0.635165</td>\n",
       "      <td>1</td>\n",
       "    </tr>\n",
       "    <tr>\n",
       "      <th>2</th>\n",
       "      <td>1.0</td>\n",
       "      <td>0.766586</td>\n",
       "      <td>1</td>\n",
       "    </tr>\n",
       "    <tr>\n",
       "      <th>3</th>\n",
       "      <td>1.0</td>\n",
       "      <td>0.724564</td>\n",
       "      <td>1</td>\n",
       "    </tr>\n",
       "    <tr>\n",
       "      <th>4</th>\n",
       "      <td>1.0</td>\n",
       "      <td>0.889199</td>\n",
       "      <td>1</td>\n",
       "    </tr>\n",
       "    <tr>\n",
       "      <th>...</th>\n",
       "      <td>...</td>\n",
       "      <td>...</td>\n",
       "      <td>...</td>\n",
       "    </tr>\n",
       "    <tr>\n",
       "      <th>10095</th>\n",
       "      <td>1.0</td>\n",
       "      <td>0.665371</td>\n",
       "      <td>1</td>\n",
       "    </tr>\n",
       "    <tr>\n",
       "      <th>10096</th>\n",
       "      <td>1.0</td>\n",
       "      <td>0.607961</td>\n",
       "      <td>1</td>\n",
       "    </tr>\n",
       "    <tr>\n",
       "      <th>10097</th>\n",
       "      <td>1.0</td>\n",
       "      <td>0.777724</td>\n",
       "      <td>1</td>\n",
       "    </tr>\n",
       "    <tr>\n",
       "      <th>10098</th>\n",
       "      <td>1.0</td>\n",
       "      <td>0.846036</td>\n",
       "      <td>1</td>\n",
       "    </tr>\n",
       "    <tr>\n",
       "      <th>10099</th>\n",
       "      <td>1.0</td>\n",
       "      <td>0.679507</td>\n",
       "      <td>1</td>\n",
       "    </tr>\n",
       "  </tbody>\n",
       "</table>\n",
       "<p>10100 rows × 3 columns</p>\n",
       "</div>"
      ],
      "text/plain": [
       "         y     proba  y_pred\n",
       "0      1.0  0.637387       1\n",
       "1      1.0  0.635165       1\n",
       "2      1.0  0.766586       1\n",
       "3      1.0  0.724564       1\n",
       "4      1.0  0.889199       1\n",
       "...    ...       ...     ...\n",
       "10095  1.0  0.665371       1\n",
       "10096  1.0  0.607961       1\n",
       "10097  1.0  0.777724       1\n",
       "10098  1.0  0.846036       1\n",
       "10099  1.0  0.679507       1\n",
       "\n",
       "[10100 rows x 3 columns]"
      ]
     },
     "execution_count": 5,
     "metadata": {},
     "output_type": "execute_result"
    }
   ],
   "source": [
    "df"
   ]
  },
  {
   "cell_type": "code",
   "execution_count": 6,
   "id": "1fdc9e9c",
   "metadata": {},
   "outputs": [
    {
     "data": {
      "text/plain": [
       "1.0    10000\n",
       "0.0      100\n",
       "Name: y, dtype: int64"
      ]
     },
     "execution_count": 6,
     "metadata": {},
     "output_type": "execute_result"
    }
   ],
   "source": [
    "df['y'].value_counts()"
   ]
  },
  {
   "cell_type": "markdown",
   "id": "88dd6323",
   "metadata": {},
   "source": [
    "***observations***\n",
    "1. As mentioned before the positive class label is more and negative class label is very less"
   ]
  },
  {
   "cell_type": "markdown",
   "id": "da2dbad4",
   "metadata": {},
   "source": [
    "### Confusion Matrix"
   ]
  },
  {
   "cell_type": "code",
   "execution_count": 7,
   "id": "ef9a0361",
   "metadata": {},
   "outputs": [
    {
     "data": {
      "text/plain": [
       "array([[    0,   100],\n",
       "       [    0, 10000]])"
      ]
     },
     "execution_count": 7,
     "metadata": {},
     "output_type": "execute_result"
    }
   ],
   "source": [
    "def confusion_matrix(y,y_pred):\n",
    "    df=pd.DataFrame({'y':y,'y_pred':y_pred})\n",
    "    TN=len(df[(df['y']==0) & (df['y_pred']==0)])\n",
    "    FP=len(df[(df['y']==0) & (df['y_pred']==1)])\n",
    "    FN=len(df[(df['y']==1) & (df['y_pred']==0)])\n",
    "    TP=len(df[(df['y']==1) & (df['y_pred']==1)])\n",
    "                \n",
    "    confusion_matrix = np.array([[TN ,FP],[FN,TP]])\n",
    "    return confusion_matrix\n",
    "\n",
    "\n",
    "confusion_matrix(df['y'], df['y_pred'])\n"
   ]
  },
  {
   "cell_type": "markdown",
   "id": "17004ffa",
   "metadata": {},
   "source": [
    "### F1 score"
   ]
  },
  {
   "cell_type": "code",
   "execution_count": 8,
   "id": "d19463b3",
   "metadata": {},
   "outputs": [
    {
     "data": {
      "text/plain": [
       "0.9950248756218906"
      ]
     },
     "execution_count": 8,
     "metadata": {},
     "output_type": "execute_result"
    }
   ],
   "source": [
    "def f1_score(y,ypred):\n",
    "    #calling confustion matrix function which we created before and storing it in variable cn\n",
    "    cn=confusion_matrix(y,ypred) \n",
    "    \n",
    "    TN=cn[0][0]\n",
    "    FP=cn[0][1]\n",
    "    FN=cn[1][0]\n",
    "    TP=cn[1][1]\n",
    "    \n",
    "    precision = TP/(TP+FN)\n",
    "    recall = TP/(TP+FP)\n",
    "    \n",
    "\n",
    "    f1_score = 2*((precision*recall) /(precision+recall))\n",
    "    return f1_score\n",
    "\n",
    "f1_score(df['y'], df['y_pred'])"
   ]
  },
  {
   "cell_type": "markdown",
   "id": "df23bf2e",
   "metadata": {},
   "source": [
    "### Accuracy"
   ]
  },
  {
   "cell_type": "code",
   "execution_count": 9,
   "id": "24ae2e18",
   "metadata": {},
   "outputs": [
    {
     "data": {
      "text/plain": [
       "0.9900990099009901"
      ]
     },
     "execution_count": 9,
     "metadata": {},
     "output_type": "execute_result"
    }
   ],
   "source": [
    "def accuracy_score(y,y_pred):\n",
    "    \n",
    "    #calling confustion matrix function which we created before and storing it in variable cn\n",
    "    cn=confusion_matrix(y,y_pred)\n",
    "    \n",
    "    TN=cn[0][0]\n",
    "    FP=cn[0][1]\n",
    "    FN=cn[1][0]\n",
    "    TP=cn[1][1]\n",
    "    \n",
    "    accuracy = (TP+TN)/(TN+FP+FN+TP)\n",
    "    return accuracy\n",
    "\n",
    "accuracy_score(df['y'], df['y_pred'])"
   ]
  },
  {
   "cell_type": "markdown",
   "id": "020f285b",
   "metadata": {},
   "source": [
    "### AUC score"
   ]
  },
  {
   "cell_type": "code",
   "execution_count": 10,
   "id": "070adf9f",
   "metadata": {},
   "outputs": [
    {
     "data": {
      "text/plain": [
       "0.4883"
      ]
     },
     "execution_count": 10,
     "metadata": {},
     "output_type": "execute_result"
    }
   ],
   "source": [
    "def auc_score(y,proba):\n",
    "    tpr_=[]\n",
    "    fpr_=[]\n",
    "    data = pd.DataFrame({'y':y,'proba':proba})\n",
    "    sort_data= data.sort_values(\"proba\",ascending=False) \n",
    "    for i in range(len(sort_data)):\n",
    "    \n",
    "        sort_data['y_pred']=np.where(sort_data['proba']>=sort_data.iloc[i]['proba'],1,0)\n",
    "    \n",
    "        cn=confusion_matrix(sort_data['y'],sort_data['y_pred'])\n",
    "        TN =cn[0][0]\n",
    "        FP =cn[0][1]\n",
    "        FN =cn[1][0]\n",
    "        TP =cn[1][1]\n",
    "        tpr = TP/(TP+FN)\n",
    "        fpr = FP/(TN+FP)\n",
    "    \n",
    "        tpr_.append(tpr)\n",
    "        fpr_.append(fpr)\n",
    "        \n",
    "    score = round(np.trapz(tpr_, fpr_),4)\n",
    "        \n",
    "    return score\n",
    "    \n",
    "auc_score(df['y'],df['proba'])    "
   ]
  },
  {
   "cell_type": "markdown",
   "id": "c1848832",
   "metadata": {},
   "source": [
    "## B. Compute performance metrics for the given data '5_b.csv'\n"
   ]
  },
  {
   "cell_type": "markdown",
   "id": "aa6ff158",
   "metadata": {},
   "source": [
    "### Importing another data set and checking"
   ]
  },
  {
   "cell_type": "code",
   "execution_count": 11,
   "id": "fa85559f",
   "metadata": {},
   "outputs": [
    {
     "data": {
      "text/html": [
       "<div>\n",
       "<style scoped>\n",
       "    .dataframe tbody tr th:only-of-type {\n",
       "        vertical-align: middle;\n",
       "    }\n",
       "\n",
       "    .dataframe tbody tr th {\n",
       "        vertical-align: top;\n",
       "    }\n",
       "\n",
       "    .dataframe thead th {\n",
       "        text-align: right;\n",
       "    }\n",
       "</style>\n",
       "<table border=\"1\" class=\"dataframe\">\n",
       "  <thead>\n",
       "    <tr style=\"text-align: right;\">\n",
       "      <th></th>\n",
       "      <th>y</th>\n",
       "      <th>proba</th>\n",
       "    </tr>\n",
       "  </thead>\n",
       "  <tbody>\n",
       "    <tr>\n",
       "      <th>0</th>\n",
       "      <td>0.0</td>\n",
       "      <td>0.281035</td>\n",
       "    </tr>\n",
       "    <tr>\n",
       "      <th>1</th>\n",
       "      <td>0.0</td>\n",
       "      <td>0.465152</td>\n",
       "    </tr>\n",
       "    <tr>\n",
       "      <th>2</th>\n",
       "      <td>0.0</td>\n",
       "      <td>0.352793</td>\n",
       "    </tr>\n",
       "    <tr>\n",
       "      <th>3</th>\n",
       "      <td>0.0</td>\n",
       "      <td>0.157818</td>\n",
       "    </tr>\n",
       "    <tr>\n",
       "      <th>4</th>\n",
       "      <td>0.0</td>\n",
       "      <td>0.276648</td>\n",
       "    </tr>\n",
       "  </tbody>\n",
       "</table>\n",
       "</div>"
      ],
      "text/plain": [
       "     y     proba\n",
       "0  0.0  0.281035\n",
       "1  0.0  0.465152\n",
       "2  0.0  0.352793\n",
       "3  0.0  0.157818\n",
       "4  0.0  0.276648"
      ]
     },
     "execution_count": 11,
     "metadata": {},
     "output_type": "execute_result"
    }
   ],
   "source": [
    "df_b=pd.read_csv('5_b.csv')\n",
    "df_b.head()"
   ]
  },
  {
   "cell_type": "code",
   "execution_count": 12,
   "id": "103c27d9",
   "metadata": {},
   "outputs": [
    {
     "data": {
      "text/html": [
       "<div>\n",
       "<style scoped>\n",
       "    .dataframe tbody tr th:only-of-type {\n",
       "        vertical-align: middle;\n",
       "    }\n",
       "\n",
       "    .dataframe tbody tr th {\n",
       "        vertical-align: top;\n",
       "    }\n",
       "\n",
       "    .dataframe thead th {\n",
       "        text-align: right;\n",
       "    }\n",
       "</style>\n",
       "<table border=\"1\" class=\"dataframe\">\n",
       "  <thead>\n",
       "    <tr style=\"text-align: right;\">\n",
       "      <th></th>\n",
       "      <th>y</th>\n",
       "      <th>proba</th>\n",
       "      <th>y_pred</th>\n",
       "    </tr>\n",
       "  </thead>\n",
       "  <tbody>\n",
       "    <tr>\n",
       "      <th>0</th>\n",
       "      <td>0.0</td>\n",
       "      <td>0.281035</td>\n",
       "      <td>0</td>\n",
       "    </tr>\n",
       "    <tr>\n",
       "      <th>1</th>\n",
       "      <td>0.0</td>\n",
       "      <td>0.465152</td>\n",
       "      <td>0</td>\n",
       "    </tr>\n",
       "    <tr>\n",
       "      <th>2</th>\n",
       "      <td>0.0</td>\n",
       "      <td>0.352793</td>\n",
       "      <td>0</td>\n",
       "    </tr>\n",
       "    <tr>\n",
       "      <th>3</th>\n",
       "      <td>0.0</td>\n",
       "      <td>0.157818</td>\n",
       "      <td>0</td>\n",
       "    </tr>\n",
       "    <tr>\n",
       "      <th>4</th>\n",
       "      <td>0.0</td>\n",
       "      <td>0.276648</td>\n",
       "      <td>0</td>\n",
       "    </tr>\n",
       "    <tr>\n",
       "      <th>...</th>\n",
       "      <td>...</td>\n",
       "      <td>...</td>\n",
       "      <td>...</td>\n",
       "    </tr>\n",
       "    <tr>\n",
       "      <th>10095</th>\n",
       "      <td>0.0</td>\n",
       "      <td>0.474401</td>\n",
       "      <td>0</td>\n",
       "    </tr>\n",
       "    <tr>\n",
       "      <th>10096</th>\n",
       "      <td>0.0</td>\n",
       "      <td>0.128403</td>\n",
       "      <td>0</td>\n",
       "    </tr>\n",
       "    <tr>\n",
       "      <th>10097</th>\n",
       "      <td>0.0</td>\n",
       "      <td>0.499331</td>\n",
       "      <td>0</td>\n",
       "    </tr>\n",
       "    <tr>\n",
       "      <th>10098</th>\n",
       "      <td>0.0</td>\n",
       "      <td>0.157616</td>\n",
       "      <td>0</td>\n",
       "    </tr>\n",
       "    <tr>\n",
       "      <th>10099</th>\n",
       "      <td>0.0</td>\n",
       "      <td>0.296618</td>\n",
       "      <td>0</td>\n",
       "    </tr>\n",
       "  </tbody>\n",
       "</table>\n",
       "<p>10100 rows × 3 columns</p>\n",
       "</div>"
      ],
      "text/plain": [
       "         y     proba  y_pred\n",
       "0      0.0  0.281035       0\n",
       "1      0.0  0.465152       0\n",
       "2      0.0  0.352793       0\n",
       "3      0.0  0.157818       0\n",
       "4      0.0  0.276648       0\n",
       "...    ...       ...     ...\n",
       "10095  0.0  0.474401       0\n",
       "10096  0.0  0.128403       0\n",
       "10097  0.0  0.499331       0\n",
       "10098  0.0  0.157616       0\n",
       "10099  0.0  0.296618       0\n",
       "\n",
       "[10100 rows x 3 columns]"
      ]
     },
     "execution_count": 12,
     "metadata": {},
     "output_type": "execute_result"
    }
   ],
   "source": [
    "# Converting probability value to class label by 0.5 as threshold\n",
    "df_b['y_pred'] = [1 if i>=0.5 else 0 for i in df_b['proba']]\n",
    "df_b"
   ]
  },
  {
   "cell_type": "markdown",
   "id": "4937f026",
   "metadata": {},
   "source": [
    "### Confusion Matrix"
   ]
  },
  {
   "cell_type": "code",
   "execution_count": 14,
   "id": "bfbad01d",
   "metadata": {},
   "outputs": [
    {
     "data": {
      "text/plain": [
       "array([[9761,  239],\n",
       "       [  45,   55]])"
      ]
     },
     "execution_count": 14,
     "metadata": {},
     "output_type": "execute_result"
    }
   ],
   "source": [
    "confusion_matrix(df_b['y'],df_b['y_pred'])"
   ]
  },
  {
   "cell_type": "markdown",
   "id": "0f0824fa",
   "metadata": {},
   "source": [
    "### F1 score"
   ]
  },
  {
   "cell_type": "code",
   "execution_count": 15,
   "id": "8d0e8c88",
   "metadata": {},
   "outputs": [
    {
     "data": {
      "text/plain": [
       "0.2791878172588833"
      ]
     },
     "execution_count": 15,
     "metadata": {},
     "output_type": "execute_result"
    }
   ],
   "source": [
    "f1_score(df_b['y'],df_b['y_pred'])"
   ]
  },
  {
   "cell_type": "markdown",
   "id": "ded3e860",
   "metadata": {},
   "source": [
    "### Accuracy"
   ]
  },
  {
   "cell_type": "code",
   "execution_count": 16,
   "id": "8f515b55",
   "metadata": {},
   "outputs": [
    {
     "data": {
      "text/plain": [
       "0.9718811881188119"
      ]
     },
     "execution_count": 16,
     "metadata": {},
     "output_type": "execute_result"
    }
   ],
   "source": [
    "accuracy_score(df_b['y'],df_b['y_pred'])"
   ]
  },
  {
   "cell_type": "markdown",
   "id": "8f0ce28f",
   "metadata": {},
   "source": [
    "### AUC score"
   ]
  },
  {
   "cell_type": "code",
   "execution_count": 17,
   "id": "bb67bfdb",
   "metadata": {},
   "outputs": [
    {
     "data": {
      "text/plain": [
       "0.9378"
      ]
     },
     "execution_count": 17,
     "metadata": {},
     "output_type": "execute_result"
    }
   ],
   "source": [
    "auc_score(df_b['y'],df_b['proba'])"
   ]
  },
  {
   "cell_type": "markdown",
   "id": "125dab83",
   "metadata": {},
   "source": [
    "### C. Compute the best threshold (similarly to ROC curve computation) of probability which gives lowest values of metric <b>A</b> for the given data \n",
    "<br>\n",
    "\n",
    "you will be predicting label of a data points like this: $y^{pred}= \\text{[0 if y_score < threshold  else 1]}$\n",
    "\n",
    "$ A = 500 \\times \\text{number of false negative} + 100 \\times \\text{numebr of false positive}$\n",
    "\n",
    "<pre>\n",
    "   <b>Note 1:</b> in this data you can see number of negative points > number of positive points\n",
    "   <b>Note 2:</b> use pandas or numpy to read the data from <b>5_c.csv</b>\n",
    "</pre>"
   ]
  },
  {
   "cell_type": "code",
   "execution_count": 18,
   "id": "e6d25197",
   "metadata": {},
   "outputs": [
    {
     "data": {
      "text/html": [
       "<div>\n",
       "<style scoped>\n",
       "    .dataframe tbody tr th:only-of-type {\n",
       "        vertical-align: middle;\n",
       "    }\n",
       "\n",
       "    .dataframe tbody tr th {\n",
       "        vertical-align: top;\n",
       "    }\n",
       "\n",
       "    .dataframe thead th {\n",
       "        text-align: right;\n",
       "    }\n",
       "</style>\n",
       "<table border=\"1\" class=\"dataframe\">\n",
       "  <thead>\n",
       "    <tr style=\"text-align: right;\">\n",
       "      <th></th>\n",
       "      <th>y</th>\n",
       "      <th>prob</th>\n",
       "    </tr>\n",
       "  </thead>\n",
       "  <tbody>\n",
       "    <tr>\n",
       "      <th>0</th>\n",
       "      <td>0</td>\n",
       "      <td>0.458521</td>\n",
       "    </tr>\n",
       "    <tr>\n",
       "      <th>1</th>\n",
       "      <td>0</td>\n",
       "      <td>0.505037</td>\n",
       "    </tr>\n",
       "    <tr>\n",
       "      <th>2</th>\n",
       "      <td>0</td>\n",
       "      <td>0.418652</td>\n",
       "    </tr>\n",
       "    <tr>\n",
       "      <th>3</th>\n",
       "      <td>0</td>\n",
       "      <td>0.412057</td>\n",
       "    </tr>\n",
       "    <tr>\n",
       "      <th>4</th>\n",
       "      <td>0</td>\n",
       "      <td>0.375579</td>\n",
       "    </tr>\n",
       "  </tbody>\n",
       "</table>\n",
       "</div>"
      ],
      "text/plain": [
       "   y      prob\n",
       "0  0  0.458521\n",
       "1  0  0.505037\n",
       "2  0  0.418652\n",
       "3  0  0.412057\n",
       "4  0  0.375579"
      ]
     },
     "execution_count": 18,
     "metadata": {},
     "output_type": "execute_result"
    }
   ],
   "source": [
    "df_c=pd.read_csv('5_c.csv')\n",
    "df_c.head()"
   ]
  },
  {
   "cell_type": "code",
   "execution_count": 20,
   "id": "30d25e73",
   "metadata": {},
   "outputs": [
    {
     "data": {
      "text/plain": [
       "0.2300390278970873"
      ]
     },
     "execution_count": 20,
     "metadata": {},
     "output_type": "execute_result"
    }
   ],
   "source": [
    "def best_threshold(y,proba):\n",
    "    values=[]\n",
    "    unique=set()\n",
    "    data = pd.DataFrame({'y':y,'proba':proba})\n",
    "    sort_data= data.sort_values(\"proba\",ascending=False) \n",
    "    for i in range(len(sort_data)):\n",
    "        if sort_data.iloc[i]['proba'] in unique:\n",
    "            continue\n",
    "            \n",
    "        sort_data['y_pred']=np.where(sort_data['proba']>=sort_data.iloc[i]['proba'],1,0)\n",
    "    \n",
    "        cn=confusion_matrix(sort_data['y'],sort_data['y_pred'])\n",
    "        TN =cn[0][0]\n",
    "        FP =cn[0][1]\n",
    "        FN =cn[1][0]\n",
    "        TP =cn[1][1]\n",
    "        A=500*FN+100*FP\n",
    "        values.append((A,sort_data.iloc[i]['proba']))\n",
    "        unique.add(sort_data.iloc[i]['proba'])\n",
    "        \n",
    "    \n",
    "        \n",
    "    return min(values)[1]\n",
    "\n",
    "best_threshold(df_c['y'],df_c['prob'])"
   ]
  },
  {
   "cell_type": "markdown",
   "id": "5a2ceb30",
   "metadata": {},
   "source": [
    "## D.</b></font> Compute performance metrics(for regression) for the given data 5_d.csv\n",
    "<pre>    <b>Note 2:</b> use pandas or numpy to read the data from <b>5_d.csv</b>\n",
    "    <b>Note 1:</b> <b>5_d.csv</b> will having two columns Y and predicted_Y both are real valued features\n",
    "<ol>\n",
    "<li> Compute Mean Square Error </li>\n",
    "<li> Compute MAPE: </li>\n",
    "<li> Compute R^2 error"
   ]
  },
  {
   "cell_type": "code",
   "execution_count": 21,
   "id": "064daa09",
   "metadata": {},
   "outputs": [],
   "source": [
    "#https://statisticsbyjim.com/regression/mean-squared-error-mse/\n"
   ]
  },
  {
   "cell_type": "code",
   "execution_count": 22,
   "id": "919c0c77",
   "metadata": {},
   "outputs": [
    {
     "data": {
      "text/html": [
       "<div>\n",
       "<style scoped>\n",
       "    .dataframe tbody tr th:only-of-type {\n",
       "        vertical-align: middle;\n",
       "    }\n",
       "\n",
       "    .dataframe tbody tr th {\n",
       "        vertical-align: top;\n",
       "    }\n",
       "\n",
       "    .dataframe thead th {\n",
       "        text-align: right;\n",
       "    }\n",
       "</style>\n",
       "<table border=\"1\" class=\"dataframe\">\n",
       "  <thead>\n",
       "    <tr style=\"text-align: right;\">\n",
       "      <th></th>\n",
       "      <th>y</th>\n",
       "      <th>pred</th>\n",
       "    </tr>\n",
       "  </thead>\n",
       "  <tbody>\n",
       "    <tr>\n",
       "      <th>0</th>\n",
       "      <td>101.0</td>\n",
       "      <td>100.0</td>\n",
       "    </tr>\n",
       "    <tr>\n",
       "      <th>1</th>\n",
       "      <td>120.0</td>\n",
       "      <td>100.0</td>\n",
       "    </tr>\n",
       "    <tr>\n",
       "      <th>2</th>\n",
       "      <td>131.0</td>\n",
       "      <td>113.0</td>\n",
       "    </tr>\n",
       "    <tr>\n",
       "      <th>3</th>\n",
       "      <td>164.0</td>\n",
       "      <td>125.0</td>\n",
       "    </tr>\n",
       "    <tr>\n",
       "      <th>4</th>\n",
       "      <td>154.0</td>\n",
       "      <td>152.0</td>\n",
       "    </tr>\n",
       "  </tbody>\n",
       "</table>\n",
       "</div>"
      ],
      "text/plain": [
       "       y   pred\n",
       "0  101.0  100.0\n",
       "1  120.0  100.0\n",
       "2  131.0  113.0\n",
       "3  164.0  125.0\n",
       "4  154.0  152.0"
      ]
     },
     "execution_count": 22,
     "metadata": {},
     "output_type": "execute_result"
    }
   ],
   "source": [
    "df_d=pd.read_csv('5_d.csv')\n",
    "df_d.head()"
   ]
  },
  {
   "cell_type": "code",
   "execution_count": 23,
   "id": "8f085963",
   "metadata": {},
   "outputs": [],
   "source": [
    "def mean_squared_error(y,ypred):\n",
    "    df=pd.DataFrame({'y':y,'pred':ypred})\n",
    "    n=len(y)\n",
    "    squared_residual = list((df['y'] - df['pred'])**2)\n",
    "    mean_squared_error = sum(squared_residual) / n\n",
    "    \n",
    "    return mean_squared_error"
   ]
  },
  {
   "cell_type": "code",
   "execution_count": 24,
   "id": "7c0f077e",
   "metadata": {},
   "outputs": [],
   "source": [
    "def mean_absolute_percentage_error(y,ypred):\n",
    "    df=pd.DataFrame({'y':y,'pred':ypred})\n",
    "    avg= np.mean(y)\n",
    "    error=list(abs(df['y'] - df['pred']))\n",
    "    mape =sum(error)/sum(df['y'])*100\n",
    "    \n",
    "    return mape\n",
    "    "
   ]
  },
  {
   "cell_type": "code",
   "execution_count": 25,
   "id": "0e7b6d32",
   "metadata": {},
   "outputs": [],
   "source": [
    "def r_2(y,ypred):\n",
    "    df=pd.DataFrame({'y':y,'pred':ypred})\n",
    "    y_mean = np.mean(df['y'])\n",
    "    ss_tot = sum(list(map(lambda x: (x-y_mean)**2 ,df['y'] )))\n",
    "    ss_res = sum(list((df['y'] - df['pred'])**2))\n",
    "\n",
    "    r_2= 1-(ss_res/ss_tot)\n",
    "    return r_2"
   ]
  },
  {
   "cell_type": "code",
   "execution_count": 26,
   "id": "d19adeb6",
   "metadata": {},
   "outputs": [
    {
     "name": "stdout",
     "output_type": "stream",
     "text": [
      "Mean Squared Error : 177.16569974554707\n",
      "Mean Absolute Percentage Error : 12.91202994009687\n",
      "R squared : 0.9563582786990964\n"
     ]
    }
   ],
   "source": [
    "print('Mean Squared Error :' ,mean_squared_error(df_d['y'] , df_d['pred']))\n",
    "print('Mean Absolute Percentage Error :',mean_absolute_percentage_error(df_d['y'] , df_d['pred']))\n",
    "print('R squared :' , r_2(df_d['y'] , df_d['pred']))"
   ]
  }
 ],
 "metadata": {
  "kernelspec": {
   "display_name": "Python 3",
   "language": "python",
   "name": "python3"
  },
  "language_info": {
   "codemirror_mode": {
    "name": "ipython",
    "version": 3
   },
   "file_extension": ".py",
   "mimetype": "text/x-python",
   "name": "python",
   "nbconvert_exporter": "python",
   "pygments_lexer": "ipython3",
   "version": "3.8.8"
  }
 },
 "nbformat": 4,
 "nbformat_minor": 5
}
