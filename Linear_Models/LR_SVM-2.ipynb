{
 "cells": [
  {
   "cell_type": "code",
   "execution_count": 318,
   "metadata": {
    "colab": {},
    "colab_type": "code",
    "id": "8ArWK463kbhL",
    "outputId": "ad250ffe-29ed-4dc9-bf30-fe91ab10656c"
   },
   "outputs": [
    {
     "data": {
      "text/html": [
       "        <script type=\"text/javascript\">\n",
       "        window.PlotlyConfig = {MathJaxConfig: 'local'};\n",
       "        if (window.MathJax && window.MathJax.Hub && window.MathJax.Hub.Config) {window.MathJax.Hub.Config({SVG: {font: \"STIX-Web\"}});}\n",
       "        if (typeof require !== 'undefined') {\n",
       "        require.undef(\"plotly\");\n",
       "        requirejs.config({\n",
       "            paths: {\n",
       "                'plotly': ['https://cdn.plot.ly/plotly-2.12.1.min']\n",
       "            }\n",
       "        });\n",
       "        require(['plotly'], function(Plotly) {\n",
       "            window._Plotly = Plotly;\n",
       "        });\n",
       "        }\n",
       "        </script>\n",
       "        "
      ]
     },
     "metadata": {},
     "output_type": "display_data"
    }
   ],
   "source": [
    "import numpy as np\n",
    "import pandas as pd\n",
    "import plotly\n",
    "import plotly.figure_factory as ff\n",
    "import plotly.graph_objs as go\n",
    "from sklearn.linear_model import LogisticRegression\n",
    "from sklearn import linear_model\n",
    "from sklearn.preprocessing import StandardScaler\n",
    "from sklearn.preprocessing import MinMaxScaler\n",
    "from plotly.offline import download_plotlyjs, init_notebook_mode, plot, iplot\n",
    "init_notebook_mode(connected=True)"
   ]
  },
  {
   "cell_type": "code",
   "execution_count": 319,
   "metadata": {
    "colab": {},
    "colab_type": "code",
    "id": "5mldzJdakbhS"
   },
   "outputs": [],
   "source": [
    "data = pd.read_csv('task_b.csv')\n",
    "data=data.iloc[:,1:]"
   ]
  },
  {
   "cell_type": "code",
   "execution_count": 320,
   "metadata": {
    "colab": {},
    "colab_type": "code",
    "id": "rsCrC2wckbhV",
    "outputId": "fff03fba-880e-4875-9bba-f05797f08d1d",
    "scrolled": true
   },
   "outputs": [
    {
     "data": {
      "text/html": [
       "<div>\n",
       "<style scoped>\n",
       "    .dataframe tbody tr th:only-of-type {\n",
       "        vertical-align: middle;\n",
       "    }\n",
       "\n",
       "    .dataframe tbody tr th {\n",
       "        vertical-align: top;\n",
       "    }\n",
       "\n",
       "    .dataframe thead th {\n",
       "        text-align: right;\n",
       "    }\n",
       "</style>\n",
       "<table border=\"1\" class=\"dataframe\">\n",
       "  <thead>\n",
       "    <tr style=\"text-align: right;\">\n",
       "      <th></th>\n",
       "      <th>f1</th>\n",
       "      <th>f2</th>\n",
       "      <th>f3</th>\n",
       "      <th>y</th>\n",
       "    </tr>\n",
       "  </thead>\n",
       "  <tbody>\n",
       "    <tr>\n",
       "      <th>0</th>\n",
       "      <td>-195.871045</td>\n",
       "      <td>-14843.084171</td>\n",
       "      <td>5.532140</td>\n",
       "      <td>1.0</td>\n",
       "    </tr>\n",
       "    <tr>\n",
       "      <th>1</th>\n",
       "      <td>-1217.183964</td>\n",
       "      <td>-4068.124621</td>\n",
       "      <td>4.416082</td>\n",
       "      <td>1.0</td>\n",
       "    </tr>\n",
       "    <tr>\n",
       "      <th>2</th>\n",
       "      <td>9.138451</td>\n",
       "      <td>4413.412028</td>\n",
       "      <td>0.425317</td>\n",
       "      <td>0.0</td>\n",
       "    </tr>\n",
       "    <tr>\n",
       "      <th>3</th>\n",
       "      <td>363.824242</td>\n",
       "      <td>15474.760647</td>\n",
       "      <td>1.094119</td>\n",
       "      <td>0.0</td>\n",
       "    </tr>\n",
       "    <tr>\n",
       "      <th>4</th>\n",
       "      <td>-768.812047</td>\n",
       "      <td>-7963.932192</td>\n",
       "      <td>1.870536</td>\n",
       "      <td>0.0</td>\n",
       "    </tr>\n",
       "  </tbody>\n",
       "</table>\n",
       "</div>"
      ],
      "text/plain": [
       "            f1            f2        f3    y\n",
       "0  -195.871045 -14843.084171  5.532140  1.0\n",
       "1 -1217.183964  -4068.124621  4.416082  1.0\n",
       "2     9.138451   4413.412028  0.425317  0.0\n",
       "3   363.824242  15474.760647  1.094119  0.0\n",
       "4  -768.812047  -7963.932192  1.870536  0.0"
      ]
     },
     "execution_count": 320,
     "metadata": {},
     "output_type": "execute_result"
    }
   ],
   "source": [
    "data.head()"
   ]
  },
  {
   "cell_type": "code",
   "execution_count": 321,
   "metadata": {
    "colab": {},
    "colab_type": "code",
    "id": "FI18joJ_kbhZ",
    "outputId": "22e420e9-4295-4307-a60f-1a528d07c81d"
   },
   "outputs": [
    {
     "data": {
      "text/plain": [
       "f1    0.067172\n",
       "f2   -0.017944\n",
       "f3    0.839060\n",
       "y     1.000000\n",
       "Name: y, dtype: float64"
      ]
     },
     "execution_count": 321,
     "metadata": {},
     "output_type": "execute_result"
    }
   ],
   "source": [
    "data.corr()['y']"
   ]
  },
  {
   "cell_type": "code",
   "execution_count": 322,
   "metadata": {
    "colab": {},
    "colab_type": "code",
    "id": "u40oCVMikbhc",
    "outputId": "db6dce7e-7469-4aa5-8af3-1c08cd0f0081",
    "scrolled": true
   },
   "outputs": [
    {
     "data": {
      "text/plain": [
       "f1      488.195035\n",
       "f2    10403.417325\n",
       "f3        2.926662\n",
       "y         0.501255\n",
       "dtype: float64"
      ]
     },
     "execution_count": 322,
     "metadata": {},
     "output_type": "execute_result"
    }
   ],
   "source": [
    "data.std()"
   ]
  },
  {
   "cell_type": "code",
   "execution_count": 323,
   "metadata": {
    "colab": {},
    "colab_type": "code",
    "id": "yQIbNaHskbhe",
    "outputId": "f2298482-b1d5-47e0-f15c-31f4a753a9ac"
   },
   "outputs": [
    {
     "name": "stdout",
     "output_type": "stream",
     "text": [
      "(200, 3)\n",
      "(200,)\n"
     ]
    }
   ],
   "source": [
    "X=data[['f1','f2','f3']].values\n",
    "Y=data['y'].values\n",
    "print(X.shape)\n",
    "print(Y.shape)"
   ]
  },
  {
   "cell_type": "markdown",
   "metadata": {
    "colab_type": "text",
    "id": "aUxp9-qEkbhh"
   },
   "source": [
    "# What if our features are with different variance \n",
    "\n",
    "<pre>\n",
    "* <b>As part of this task you will observe how linear models work in case of data having feautres with different variance</b>\n",
    "* <b>from the output of the above cells you can observe that var(F2)>>var(F1)>>Var(F3)</b>\n",
    "\n",
    "> <b>Task1</b>:\n",
    "    1. Apply Logistic regression(SGDClassifier with logloss) on 'data' and check the feature importance\n",
    "    2. Apply SVM(SGDClassifier with hinge) on 'data' and check the feature importance\n",
    "\n",
    "> <b>Task2</b>:\n",
    "    1. Apply Logistic regression(SGDClassifier with logloss) on 'data' after standardization \n",
    "       i.e standardization(data, column wise): (column-mean(column))/std(column) and check the feature importance\n",
    "    2. Apply SVM(SGDClassifier with hinge) on 'data' after standardization \n",
    "       i.e standardization(data, column wise): (column-mean(column))/std(column) and check the feature importance\n",
    "\n",
    "</pre>"
   ]
  },
  {
   "cell_type": "markdown",
   "metadata": {},
   "source": [
    "## Task 1"
   ]
  },
  {
   "cell_type": "markdown",
   "metadata": {},
   "source": [
    "## Logistic regression(SGDClassifier with logloss)"
   ]
  },
  {
   "cell_type": "code",
   "execution_count": 327,
   "metadata": {},
   "outputs": [],
   "source": [
    "clf = linear_model.SGDClassifier(loss = 'log_loss',random_state=13)"
   ]
  },
  {
   "cell_type": "code",
   "execution_count": 328,
   "metadata": {},
   "outputs": [
    {
     "data": {
      "text/html": [
       "<style>#sk-container-id-76 {color: black;background-color: white;}#sk-container-id-76 pre{padding: 0;}#sk-container-id-76 div.sk-toggleable {background-color: white;}#sk-container-id-76 label.sk-toggleable__label {cursor: pointer;display: block;width: 100%;margin-bottom: 0;padding: 0.3em;box-sizing: border-box;text-align: center;}#sk-container-id-76 label.sk-toggleable__label-arrow:before {content: \"▸\";float: left;margin-right: 0.25em;color: #696969;}#sk-container-id-76 label.sk-toggleable__label-arrow:hover:before {color: black;}#sk-container-id-76 div.sk-estimator:hover label.sk-toggleable__label-arrow:before {color: black;}#sk-container-id-76 div.sk-toggleable__content {max-height: 0;max-width: 0;overflow: hidden;text-align: left;background-color: #f0f8ff;}#sk-container-id-76 div.sk-toggleable__content pre {margin: 0.2em;color: black;border-radius: 0.25em;background-color: #f0f8ff;}#sk-container-id-76 input.sk-toggleable__control:checked~div.sk-toggleable__content {max-height: 200px;max-width: 100%;overflow: auto;}#sk-container-id-76 input.sk-toggleable__control:checked~label.sk-toggleable__label-arrow:before {content: \"▾\";}#sk-container-id-76 div.sk-estimator input.sk-toggleable__control:checked~label.sk-toggleable__label {background-color: #d4ebff;}#sk-container-id-76 div.sk-label input.sk-toggleable__control:checked~label.sk-toggleable__label {background-color: #d4ebff;}#sk-container-id-76 input.sk-hidden--visually {border: 0;clip: rect(1px 1px 1px 1px);clip: rect(1px, 1px, 1px, 1px);height: 1px;margin: -1px;overflow: hidden;padding: 0;position: absolute;width: 1px;}#sk-container-id-76 div.sk-estimator {font-family: monospace;background-color: #f0f8ff;border: 1px dotted black;border-radius: 0.25em;box-sizing: border-box;margin-bottom: 0.5em;}#sk-container-id-76 div.sk-estimator:hover {background-color: #d4ebff;}#sk-container-id-76 div.sk-parallel-item::after {content: \"\";width: 100%;border-bottom: 1px solid gray;flex-grow: 1;}#sk-container-id-76 div.sk-label:hover label.sk-toggleable__label {background-color: #d4ebff;}#sk-container-id-76 div.sk-serial::before {content: \"\";position: absolute;border-left: 1px solid gray;box-sizing: border-box;top: 0;bottom: 0;left: 50%;z-index: 0;}#sk-container-id-76 div.sk-serial {display: flex;flex-direction: column;align-items: center;background-color: white;padding-right: 0.2em;padding-left: 0.2em;position: relative;}#sk-container-id-76 div.sk-item {position: relative;z-index: 1;}#sk-container-id-76 div.sk-parallel {display: flex;align-items: stretch;justify-content: center;background-color: white;position: relative;}#sk-container-id-76 div.sk-item::before, #sk-container-id-76 div.sk-parallel-item::before {content: \"\";position: absolute;border-left: 1px solid gray;box-sizing: border-box;top: 0;bottom: 0;left: 50%;z-index: -1;}#sk-container-id-76 div.sk-parallel-item {display: flex;flex-direction: column;z-index: 1;position: relative;background-color: white;}#sk-container-id-76 div.sk-parallel-item:first-child::after {align-self: flex-end;width: 50%;}#sk-container-id-76 div.sk-parallel-item:last-child::after {align-self: flex-start;width: 50%;}#sk-container-id-76 div.sk-parallel-item:only-child::after {width: 0;}#sk-container-id-76 div.sk-dashed-wrapped {border: 1px dashed gray;margin: 0 0.4em 0.5em 0.4em;box-sizing: border-box;padding-bottom: 0.4em;background-color: white;}#sk-container-id-76 div.sk-label label {font-family: monospace;font-weight: bold;display: inline-block;line-height: 1.2em;}#sk-container-id-76 div.sk-label-container {text-align: center;}#sk-container-id-76 div.sk-container {/* jupyter's `normalize.less` sets `[hidden] { display: none; }` but bootstrap.min.css set `[hidden] { display: none !important; }` so we also need the `!important` here to be able to override the default hidden behavior on the sphinx rendered scikit-learn.org. See: https://github.com/scikit-learn/scikit-learn/issues/21755 */display: inline-block !important;position: relative;}#sk-container-id-76 div.sk-text-repr-fallback {display: none;}</style><div id=\"sk-container-id-76\" class=\"sk-top-container\"><div class=\"sk-text-repr-fallback\"><pre>SGDClassifier(loss=&#x27;log_loss&#x27;, random_state=13)</pre><b>In a Jupyter environment, please rerun this cell to show the HTML representation or trust the notebook. <br />On GitHub, the HTML representation is unable to render, please try loading this page with nbviewer.org.</b></div><div class=\"sk-container\" hidden><div class=\"sk-item\"><div class=\"sk-estimator sk-toggleable\"><input class=\"sk-toggleable__control sk-hidden--visually\" id=\"sk-estimator-id-76\" type=\"checkbox\" checked><label for=\"sk-estimator-id-76\" class=\"sk-toggleable__label sk-toggleable__label-arrow\">SGDClassifier</label><div class=\"sk-toggleable__content\"><pre>SGDClassifier(loss=&#x27;log_loss&#x27;, random_state=13)</pre></div></div></div></div></div>"
      ],
      "text/plain": [
       "SGDClassifier(loss='log_loss', random_state=13)"
      ]
     },
     "execution_count": 328,
     "metadata": {},
     "output_type": "execute_result"
    }
   ],
   "source": [
    "clf.fit(X,Y)"
   ]
  },
  {
   "cell_type": "code",
   "execution_count": 329,
   "metadata": {},
   "outputs": [
    {
     "data": {
      "text/html": [
       "<div>\n",
       "<style scoped>\n",
       "    .dataframe tbody tr th:only-of-type {\n",
       "        vertical-align: middle;\n",
       "    }\n",
       "\n",
       "    .dataframe tbody tr th {\n",
       "        vertical-align: top;\n",
       "    }\n",
       "\n",
       "    .dataframe thead th {\n",
       "        text-align: right;\n",
       "    }\n",
       "</style>\n",
       "<table border=\"1\" class=\"dataframe\">\n",
       "  <thead>\n",
       "    <tr style=\"text-align: right;\">\n",
       "      <th></th>\n",
       "      <th>Features</th>\n",
       "      <th>weight</th>\n",
       "    </tr>\n",
       "  </thead>\n",
       "  <tbody>\n",
       "    <tr>\n",
       "      <th>1</th>\n",
       "      <td>f2</td>\n",
       "      <td>34130.590799</td>\n",
       "    </tr>\n",
       "    <tr>\n",
       "      <th>0</th>\n",
       "      <td>f1</td>\n",
       "      <td>9800.352249</td>\n",
       "    </tr>\n",
       "    <tr>\n",
       "      <th>2</th>\n",
       "      <td>f3</td>\n",
       "      <td>9490.039168</td>\n",
       "    </tr>\n",
       "  </tbody>\n",
       "</table>\n",
       "</div>"
      ],
      "text/plain": [
       "  Features        weight\n",
       "1       f2  34130.590799\n",
       "0       f1   9800.352249\n",
       "2       f3   9490.039168"
      ]
     },
     "execution_count": 329,
     "metadata": {},
     "output_type": "execute_result"
    }
   ],
   "source": [
    "coef = pd.DataFrame({'Features':data.iloc[:,:3].columns.tolist(),'weight':clf.coef_[0].tolist()})\n",
    "coef.sort_values('weight',ascending=False)"
   ]
  },
  {
   "cell_type": "markdown",
   "metadata": {},
   "source": [
    "## SVM(SGDClassifier with hinge)"
   ]
  },
  {
   "cell_type": "code",
   "execution_count": 330,
   "metadata": {},
   "outputs": [],
   "source": [
    "clf = linear_model.SGDClassifier(loss = 'hinge',random_state=13)"
   ]
  },
  {
   "cell_type": "code",
   "execution_count": 331,
   "metadata": {},
   "outputs": [
    {
     "data": {
      "text/html": [
       "<style>#sk-container-id-77 {color: black;background-color: white;}#sk-container-id-77 pre{padding: 0;}#sk-container-id-77 div.sk-toggleable {background-color: white;}#sk-container-id-77 label.sk-toggleable__label {cursor: pointer;display: block;width: 100%;margin-bottom: 0;padding: 0.3em;box-sizing: border-box;text-align: center;}#sk-container-id-77 label.sk-toggleable__label-arrow:before {content: \"▸\";float: left;margin-right: 0.25em;color: #696969;}#sk-container-id-77 label.sk-toggleable__label-arrow:hover:before {color: black;}#sk-container-id-77 div.sk-estimator:hover label.sk-toggleable__label-arrow:before {color: black;}#sk-container-id-77 div.sk-toggleable__content {max-height: 0;max-width: 0;overflow: hidden;text-align: left;background-color: #f0f8ff;}#sk-container-id-77 div.sk-toggleable__content pre {margin: 0.2em;color: black;border-radius: 0.25em;background-color: #f0f8ff;}#sk-container-id-77 input.sk-toggleable__control:checked~div.sk-toggleable__content {max-height: 200px;max-width: 100%;overflow: auto;}#sk-container-id-77 input.sk-toggleable__control:checked~label.sk-toggleable__label-arrow:before {content: \"▾\";}#sk-container-id-77 div.sk-estimator input.sk-toggleable__control:checked~label.sk-toggleable__label {background-color: #d4ebff;}#sk-container-id-77 div.sk-label input.sk-toggleable__control:checked~label.sk-toggleable__label {background-color: #d4ebff;}#sk-container-id-77 input.sk-hidden--visually {border: 0;clip: rect(1px 1px 1px 1px);clip: rect(1px, 1px, 1px, 1px);height: 1px;margin: -1px;overflow: hidden;padding: 0;position: absolute;width: 1px;}#sk-container-id-77 div.sk-estimator {font-family: monospace;background-color: #f0f8ff;border: 1px dotted black;border-radius: 0.25em;box-sizing: border-box;margin-bottom: 0.5em;}#sk-container-id-77 div.sk-estimator:hover {background-color: #d4ebff;}#sk-container-id-77 div.sk-parallel-item::after {content: \"\";width: 100%;border-bottom: 1px solid gray;flex-grow: 1;}#sk-container-id-77 div.sk-label:hover label.sk-toggleable__label {background-color: #d4ebff;}#sk-container-id-77 div.sk-serial::before {content: \"\";position: absolute;border-left: 1px solid gray;box-sizing: border-box;top: 0;bottom: 0;left: 50%;z-index: 0;}#sk-container-id-77 div.sk-serial {display: flex;flex-direction: column;align-items: center;background-color: white;padding-right: 0.2em;padding-left: 0.2em;position: relative;}#sk-container-id-77 div.sk-item {position: relative;z-index: 1;}#sk-container-id-77 div.sk-parallel {display: flex;align-items: stretch;justify-content: center;background-color: white;position: relative;}#sk-container-id-77 div.sk-item::before, #sk-container-id-77 div.sk-parallel-item::before {content: \"\";position: absolute;border-left: 1px solid gray;box-sizing: border-box;top: 0;bottom: 0;left: 50%;z-index: -1;}#sk-container-id-77 div.sk-parallel-item {display: flex;flex-direction: column;z-index: 1;position: relative;background-color: white;}#sk-container-id-77 div.sk-parallel-item:first-child::after {align-self: flex-end;width: 50%;}#sk-container-id-77 div.sk-parallel-item:last-child::after {align-self: flex-start;width: 50%;}#sk-container-id-77 div.sk-parallel-item:only-child::after {width: 0;}#sk-container-id-77 div.sk-dashed-wrapped {border: 1px dashed gray;margin: 0 0.4em 0.5em 0.4em;box-sizing: border-box;padding-bottom: 0.4em;background-color: white;}#sk-container-id-77 div.sk-label label {font-family: monospace;font-weight: bold;display: inline-block;line-height: 1.2em;}#sk-container-id-77 div.sk-label-container {text-align: center;}#sk-container-id-77 div.sk-container {/* jupyter's `normalize.less` sets `[hidden] { display: none; }` but bootstrap.min.css set `[hidden] { display: none !important; }` so we also need the `!important` here to be able to override the default hidden behavior on the sphinx rendered scikit-learn.org. See: https://github.com/scikit-learn/scikit-learn/issues/21755 */display: inline-block !important;position: relative;}#sk-container-id-77 div.sk-text-repr-fallback {display: none;}</style><div id=\"sk-container-id-77\" class=\"sk-top-container\"><div class=\"sk-text-repr-fallback\"><pre>SGDClassifier(random_state=13)</pre><b>In a Jupyter environment, please rerun this cell to show the HTML representation or trust the notebook. <br />On GitHub, the HTML representation is unable to render, please try loading this page with nbviewer.org.</b></div><div class=\"sk-container\" hidden><div class=\"sk-item\"><div class=\"sk-estimator sk-toggleable\"><input class=\"sk-toggleable__control sk-hidden--visually\" id=\"sk-estimator-id-77\" type=\"checkbox\" checked><label for=\"sk-estimator-id-77\" class=\"sk-toggleable__label sk-toggleable__label-arrow\">SGDClassifier</label><div class=\"sk-toggleable__content\"><pre>SGDClassifier(random_state=13)</pre></div></div></div></div></div>"
      ],
      "text/plain": [
       "SGDClassifier(random_state=13)"
      ]
     },
     "execution_count": 331,
     "metadata": {},
     "output_type": "execute_result"
    }
   ],
   "source": [
    "clf.fit(X,Y)"
   ]
  },
  {
   "cell_type": "code",
   "execution_count": 332,
   "metadata": {},
   "outputs": [
    {
     "data": {
      "text/html": [
       "<div>\n",
       "<style scoped>\n",
       "    .dataframe tbody tr th:only-of-type {\n",
       "        vertical-align: middle;\n",
       "    }\n",
       "\n",
       "    .dataframe tbody tr th {\n",
       "        vertical-align: top;\n",
       "    }\n",
       "\n",
       "    .dataframe thead th {\n",
       "        text-align: right;\n",
       "    }\n",
       "</style>\n",
       "<table border=\"1\" class=\"dataframe\">\n",
       "  <thead>\n",
       "    <tr style=\"text-align: right;\">\n",
       "      <th></th>\n",
       "      <th>Features</th>\n",
       "      <th>weight</th>\n",
       "    </tr>\n",
       "  </thead>\n",
       "  <tbody>\n",
       "    <tr>\n",
       "      <th>1</th>\n",
       "      <td>f2</td>\n",
       "      <td>34021.377528</td>\n",
       "    </tr>\n",
       "    <tr>\n",
       "      <th>0</th>\n",
       "      <td>f1</td>\n",
       "      <td>12482.987036</td>\n",
       "    </tr>\n",
       "    <tr>\n",
       "      <th>2</th>\n",
       "      <td>f3</td>\n",
       "      <td>9595.719869</td>\n",
       "    </tr>\n",
       "  </tbody>\n",
       "</table>\n",
       "</div>"
      ],
      "text/plain": [
       "  Features        weight\n",
       "1       f2  34021.377528\n",
       "0       f1  12482.987036\n",
       "2       f3   9595.719869"
      ]
     },
     "execution_count": 332,
     "metadata": {},
     "output_type": "execute_result"
    }
   ],
   "source": [
    "coef = pd.DataFrame({'Features':data.iloc[:,:3].columns.tolist(),'weight':clf.coef_[0].tolist()})\n",
    "coef.sort_values('weight',ascending=False)"
   ]
  },
  {
   "cell_type": "markdown",
   "metadata": {},
   "source": [
    "***Observation***\n",
    "\n",
    "1. In both SVD with log_loss and SVD with hinge_loss the weight of f2>f1>f3\n",
    "2. In variance of the feature also f2>f1>f3"
   ]
  },
  {
   "cell_type": "markdown",
   "metadata": {},
   "source": [
    "## Task 2"
   ]
  },
  {
   "cell_type": "markdown",
   "metadata": {},
   "source": [
    "## Logistic regression(SGDClassifier with logloss)"
   ]
  },
  {
   "cell_type": "code",
   "execution_count": 333,
   "metadata": {},
   "outputs": [
    {
     "data": {
      "text/plain": [
       "array([[-4.23126269e-01, -1.55560236e+00,  1.81651062e-01],\n",
       "       [-2.52039425e+00, -5.17289849e-01, -2.00647759e-01],\n",
       "       [-2.13888724e-03,  3.00020471e-01, -1.56765904e+00],\n",
       "       [ 7.26209046e-01,  1.36593043e+00, -1.33856504e+00],\n",
       "       [-1.59966168e+00, -8.92703393e-01, -1.07260822e+00],\n",
       "       [ 3.73559566e-01, -1.34688443e+00, -5.29439304e-01],\n",
       "       [-2.63317123e-01, -2.77330644e+00,  1.50924905e+00],\n",
       "       [-1.00965768e-01,  2.21633157e-01, -6.85861950e-01],\n",
       "       [-8.52119464e-02, -1.59859565e+00, -3.83257927e-01],\n",
       "       [ 9.28171798e-02, -9.94501248e-01,  9.44448286e-01],\n",
       "       [ 7.09228749e-01, -1.70760866e+00, -1.03918698e+00],\n",
       "       [-7.83909103e-01, -3.50204636e-01, -9.48927760e-01],\n",
       "       [-2.01667191e-01,  1.72792909e+00,  1.17198123e+00],\n",
       "       [-8.36568588e-01, -1.26721701e+00, -1.12142009e+00],\n",
       "       [ 2.07081381e-01,  1.13148521e+00, -1.66234729e+00],\n",
       "       [ 9.43056671e-01,  4.38012278e-01,  6.53789271e-02],\n",
       "       [-3.60189349e-01, -3.26022128e-02, -5.83410424e-01],\n",
       "       [ 2.70583308e-01,  2.20011047e+00, -6.56589981e-01],\n",
       "       [-6.51666753e-01,  1.03017197e+00,  1.25191478e+00],\n",
       "       [-6.09355817e-01,  8.36853735e-01,  6.03180078e-01],\n",
       "       [ 7.94785332e-01, -6.72845832e-01,  1.43021349e+00],\n",
       "       [ 5.10571998e-01,  3.73432929e-01, -1.50852020e+00],\n",
       "       [-1.47588557e+00, -6.00581256e-01, -1.48066876e+00],\n",
       "       [-1.47726084e+00, -2.32186688e-01, -2.94816337e-01],\n",
       "       [-1.03647639e+00, -8.37896095e-01,  1.17081187e+00],\n",
       "       [-1.07660046e+00,  2.10848883e-01,  9.62465195e-01],\n",
       "       [-1.01712438e-01,  2.48169161e-01, -3.86472259e-01],\n",
       "       [ 3.70961956e-03,  1.60182652e+00,  1.21370284e+00],\n",
       "       [ 5.17736510e-01, -2.14087168e-01, -3.51787940e-02],\n",
       "       [ 4.61577779e-01, -2.99554646e-01,  3.42585830e-01],\n",
       "       [-2.19005606e+00, -1.49308677e+00,  6.41466585e-01],\n",
       "       [ 3.48142670e-01, -4.47289157e-01,  1.80962517e-01],\n",
       "       [ 2.20882102e+00,  2.69467444e-01, -8.37881328e-02],\n",
       "       [-1.05160937e+00,  1.38529121e+00, -1.55079053e+00],\n",
       "       [-8.50996230e-01, -2.97816616e+00, -7.33321944e-01],\n",
       "       [ 1.46172367e+00, -9.13339092e-01,  1.64186552e+00],\n",
       "       [ 4.61468566e-01, -4.82392116e-01, -1.39485877e-01],\n",
       "       [-7.54382145e-01, -1.00964480e+00, -6.22538499e-01],\n",
       "       [-8.95838590e-02, -3.25194246e-01,  3.52164753e-01],\n",
       "       [ 1.55907259e+00, -6.47289389e-01, -1.03588842e+00],\n",
       "       [ 2.30080415e+00,  2.49973990e-01,  8.46921011e-02],\n",
       "       [-1.01450179e-01,  1.50965634e+00, -1.08413602e+00],\n",
       "       [-4.29305647e-01, -1.11654571e+00,  9.81588048e-01],\n",
       "       [ 4.84312307e-01, -2.53784038e+00, -1.70552557e-01],\n",
       "       [-1.92476942e+00, -2.41951941e+00, -8.73910579e-02],\n",
       "       [-1.53388732e-01,  3.31868525e-01,  1.56405798e+00],\n",
       "       [-5.92044049e-01,  1.03613158e+00, -9.38996397e-01],\n",
       "       [-9.11636053e-01, -1.09753062e+00,  3.47468948e-01],\n",
       "       [-7.88994552e-01, -2.02811683e-02, -5.50908140e-01],\n",
       "       [-1.73097690e-01,  1.68752615e+00,  5.65303839e-01],\n",
       "       [ 1.60054084e+00, -6.34591843e-02, -2.32021751e-01],\n",
       "       [-3.43501401e+00, -8.00113507e-01,  1.33750072e+00],\n",
       "       [ 2.44778077e-01,  2.81055773e-01,  1.03740030e+00],\n",
       "       [-1.57398889e-01, -5.73495825e-01, -6.25701542e-01],\n",
       "       [-1.41730246e+00, -1.72310090e-01,  3.62924937e-01],\n",
       "       [ 1.42760205e-01,  1.00436130e+00, -5.17245571e-01],\n",
       "       [-1.14625595e+00,  6.46753124e-01,  1.62189710e+00],\n",
       "       [-7.13330881e-01,  1.09968175e+00, -1.01177620e+00],\n",
       "       [ 2.31274079e-01, -1.44922232e+00,  1.48932811e+00],\n",
       "       [-2.51635002e-01,  1.44821307e+00, -1.32879576e+00],\n",
       "       [ 9.49362940e-01, -3.21245034e-01,  2.28215517e-01],\n",
       "       [-1.35073121e+00,  1.35582568e-01, -7.88836484e-01],\n",
       "       [-1.35685029e+00, -2.86480539e-01, -1.12120798e+00],\n",
       "       [ 4.31240847e-01,  4.93790171e-01,  1.13977355e+00],\n",
       "       [ 1.24931354e+00,  6.25186804e-01,  4.36032145e-01],\n",
       "       [ 5.46852663e-01,  3.90001421e-01, -2.65134756e-01],\n",
       "       [-5.84358307e-01,  2.63716516e-02, -4.14521207e-01],\n",
       "       [ 3.30524362e-01,  5.57885358e-01,  3.79402055e-01],\n",
       "       [-1.18577263e+00, -1.06739544e+00,  8.31905519e-01],\n",
       "       [ 1.86386220e+00,  5.27528086e-01,  5.69725962e-01],\n",
       "       [-4.41717065e-01,  6.71529154e-01, -1.32514931e+00],\n",
       "       [-4.03599250e-01,  2.08293837e-01, -5.65202312e-01],\n",
       "       [ 3.73081263e-01, -9.75265462e-01,  1.29953899e+00],\n",
       "       [-3.14628751e-01, -1.09543067e+00,  9.11825024e-01],\n",
       "       [-1.30883279e+00,  1.47052972e-01, -3.59274593e-02],\n",
       "       [-1.11983939e-01, -1.27259362e+00, -1.19013018e+00],\n",
       "       [-3.00161715e-04,  7.19770842e-01, -5.38995330e-02],\n",
       "       [ 8.73335708e-01,  1.94657129e+00,  7.40839764e-01],\n",
       "       [ 5.36458581e-01,  1.73766516e-01, -1.07342516e+00],\n",
       "       [-6.09756796e-01,  4.46192252e-01,  4.32181834e-01],\n",
       "       [ 1.42494385e-01, -6.65682780e-01, -7.48306477e-01],\n",
       "       [ 2.69695122e-01,  8.08193999e-01, -1.57772265e+00],\n",
       "       [-2.59431320e-01, -2.79223070e-01,  1.12009371e+00],\n",
       "       [-1.17112582e-01,  1.17163221e-01,  9.59344716e-01],\n",
       "       [ 1.58682983e+00,  1.03456222e-01,  1.48950075e+00],\n",
       "       [-1.44656970e-01,  1.06314701e+00,  3.55398726e-01],\n",
       "       [-3.77523966e-02, -1.00332983e+00,  4.68659824e-01],\n",
       "       [ 5.98849494e-01, -7.81359858e-01,  1.09273855e+00],\n",
       "       [-1.23711112e+00, -3.36211630e-01,  9.72846824e-01],\n",
       "       [ 1.36545161e+00, -1.42619683e-01, -1.50007679e+00],\n",
       "       [ 2.07228100e+00,  3.90813292e-02,  1.67821927e+00],\n",
       "       [ 7.28970904e-01,  7.63862610e-01, -1.32266187e+00],\n",
       "       [ 1.95292229e-01, -9.28195330e-01,  1.32968770e+00],\n",
       "       [ 6.83826294e-01, -3.06377703e-01,  7.34481422e-01],\n",
       "       [ 3.68641526e-01,  4.97029726e-01, -3.28591953e-01],\n",
       "       [-3.94591806e-01,  8.09317659e-01,  1.77855816e-01],\n",
       "       [-8.18094691e-01,  2.15537197e-02, -2.01033571e-02],\n",
       "       [-1.26606192e+00,  1.18635467e+00,  1.07416507e+00],\n",
       "       [-1.28723397e+00, -8.50816698e-01, -8.88979745e-01],\n",
       "       [-6.17472019e-01, -8.99609305e-01, -2.71435567e-02],\n",
       "       [-1.78174978e+00,  1.72189419e+00,  6.09087349e-01],\n",
       "       [ 8.98766936e-01,  9.50065846e-01, -1.30461197e+00],\n",
       "       [ 1.06071806e+00, -3.03112998e-01,  1.61808607e+00],\n",
       "       [-1.42548237e+00,  7.85529604e-01, -5.08544168e-01],\n",
       "       [ 2.33772731e-02, -1.27353983e+00,  1.61679671e+00],\n",
       "       [ 1.24469422e+00, -1.10024880e+00,  1.27985056e+00],\n",
       "       [ 1.32785965e+00,  3.12087147e-01,  1.14683940e+00],\n",
       "       [-7.96249955e-01, -1.07961634e+00,  1.13240961e+00],\n",
       "       [-2.61602840e-01,  1.95208272e-01,  1.52314991e+00],\n",
       "       [ 1.47961463e+00, -2.01722609e+00, -7.32398309e-01],\n",
       "       [ 3.18178388e-01,  8.52692094e-02,  1.12722823e+00],\n",
       "       [-1.33313230e+00,  1.87045673e+00, -1.23138903e+00],\n",
       "       [-5.51146702e-01,  2.77386328e-01, -1.68389446e+00],\n",
       "       [-1.75493879e+00, -2.67379792e+00, -1.67129716e+00],\n",
       "       [ 6.32152374e-01,  1.36520454e+00,  9.11470337e-01],\n",
       "       [-1.48833491e+00, -8.88478159e-01, -1.19049562e+00],\n",
       "       [-5.75150240e-01, -1.60004620e-01,  5.72260660e-01],\n",
       "       [-1.24786761e+00, -3.61243962e-01, -9.18615655e-01],\n",
       "       [-4.96266292e-01,  2.26483428e-01,  8.40353677e-01],\n",
       "       [-4.58763938e-01,  1.91180287e+00,  7.86080514e-01],\n",
       "       [ 1.26314482e+00,  2.57390861e-01,  1.68940102e+00],\n",
       "       [ 2.00154377e+00, -8.66021078e-01,  1.35505172e+00],\n",
       "       [ 3.25491192e-02, -8.64635170e-01,  3.73163946e-01],\n",
       "       [-1.39749281e+00,  1.06509127e+00,  1.60613344e+00],\n",
       "       [ 1.48982378e-01, -4.01525295e-01, -5.52832818e-01],\n",
       "       [ 1.11389291e+00, -2.97047584e-01,  5.06192708e-01],\n",
       "       [ 7.44272179e-01, -1.11716021e+00, -4.25967883e-01],\n",
       "       [-1.92018229e-01, -5.82082303e-01, -1.64612805e+00],\n",
       "       [-3.99536030e-01,  3.02380155e-01, -1.23061359e+00],\n",
       "       [ 3.18262159e-01, -1.83141618e-01,  1.08380915e+00],\n",
       "       [ 1.03881414e-01,  7.21755364e-01, -1.08986660e+00],\n",
       "       [-2.65619277e-01,  4.47100653e-01,  1.00885501e+00],\n",
       "       [-8.04477313e-01,  2.04294434e+00, -4.06892216e-01],\n",
       "       [-3.04178965e-01,  8.21692376e-03,  7.05703139e-01],\n",
       "       [ 5.01363352e-01,  9.36328096e-01, -1.68705384e+00],\n",
       "       [ 6.36288908e-01,  2.35154636e-01, -6.12687939e-01],\n",
       "       [ 2.16923587e-01,  4.29932461e-01,  1.52881266e+00],\n",
       "       [ 8.76673352e-01,  4.73663042e-01, -1.05914949e+00],\n",
       "       [ 4.83764087e-01, -2.09015944e-01,  5.54177650e-01],\n",
       "       [ 4.24494540e-02,  5.89974570e-01, -1.26199239e-01],\n",
       "       [-5.29720777e-01,  7.63745150e-01,  1.48833200e+00],\n",
       "       [-2.25598081e+00,  1.83699299e-01, -3.61070047e-01],\n",
       "       [-8.94369708e-01, -8.51624685e-01,  1.41557571e+00],\n",
       "       [ 1.76394408e-01,  5.27964746e-01, -1.48692678e+00],\n",
       "       [-2.04320298e-02, -9.58661267e-01,  1.29431458e+00],\n",
       "       [ 1.40288328e+00, -9.14821941e-01, -1.25455959e-02],\n",
       "       [-7.60684297e-01, -2.25032873e-01, -7.55663068e-01],\n",
       "       [-6.69622889e-01, -5.82042074e-01, -1.63006210e+00],\n",
       "       [-2.94652955e-01,  7.53172724e-01, -1.66273930e+00],\n",
       "       [-1.25771565e+00,  1.41524260e-01, -1.42959999e+00],\n",
       "       [-4.51827028e-01, -3.53016062e-01,  1.09308413e+00],\n",
       "       [-5.41146640e-01, -2.45262580e+00, -2.02574006e-01],\n",
       "       [-4.34450082e-01, -1.24842531e+00,  7.58024562e-01],\n",
       "       [-6.58205546e-01,  1.64098634e+00, -1.42281239e-01],\n",
       "       [ 4.81932667e-01, -1.26664931e+00,  1.05991914e+00],\n",
       "       [ 5.98708400e-01,  1.08069723e-01, -1.47163914e+00],\n",
       "       [ 5.05059630e-01,  5.96053434e-01, -7.46683425e-01],\n",
       "       [ 1.04746272e+00,  1.97762919e-01, -1.09049071e+00],\n",
       "       [-7.21723396e-01,  6.27889212e-01,  4.50646469e-01],\n",
       "       [ 1.94024651e+00,  1.36836905e+00,  6.98135662e-02],\n",
       "       [-1.37487457e+00,  1.74678703e+00, -8.25243555e-01],\n",
       "       [-1.65942314e+00,  2.87325097e-01, -9.06766249e-01],\n",
       "       [ 2.16867464e+00,  1.09411329e+00,  2.53738153e-01],\n",
       "       [ 1.89240238e+00,  6.12651033e-01,  6.10759447e-01],\n",
       "       [ 1.72279980e+00,  1.15309940e+00, -2.44296877e-01],\n",
       "       [ 4.94420525e-01,  7.76292992e-01, -4.22891889e-01],\n",
       "       [ 1.88477110e+00, -1.24895608e+00,  4.84652458e-01],\n",
       "       [ 1.14685009e+00,  2.01733298e-01,  1.43781798e+00],\n",
       "       [ 2.32824200e-01, -1.91479879e+00, -1.59750592e+00],\n",
       "       [ 4.68669305e-01, -2.53588390e-01, -1.35262660e+00],\n",
       "       [ 5.48158433e-01,  8.72985330e-01,  6.85426205e-01],\n",
       "       [-2.46647901e-01,  3.68569515e-01,  1.24942775e+00],\n",
       "       [ 4.30515426e-01,  9.11399250e-01,  7.60750938e-01],\n",
       "       [ 7.82554702e-01, -1.17337842e+00,  4.85636336e-01],\n",
       "       [ 1.13997553e+00,  2.91408764e-01,  1.57653446e+00],\n",
       "       [ 1.23829946e+00,  1.14970880e+00,  6.73886822e-01],\n",
       "       [ 1.14257255e+00,  1.82495183e-01,  7.02760673e-01],\n",
       "       [ 6.14975633e-02,  1.32070480e+00, -1.28966143e+00],\n",
       "       [ 2.85390667e-01,  3.70705344e-01,  4.24092594e-01],\n",
       "       [ 6.16323076e-01,  1.57959236e-01, -5.46314743e-01],\n",
       "       [ 1.07382710e+00, -6.22171276e-01, -1.32717113e+00],\n",
       "       [ 1.59426708e+00, -7.29766946e-01,  2.41170852e-01],\n",
       "       [ 8.85615075e-01,  7.27621730e-02,  3.34339081e-01],\n",
       "       [-1.15140955e-01, -1.45278614e+00,  5.99620897e-01],\n",
       "       [-6.40870496e-01, -1.36308155e+00, -1.48853118e+00],\n",
       "       [ 1.27947228e+00,  3.80183000e-01,  4.70716584e-01],\n",
       "       [-1.17554002e+00, -3.89876650e-01, -1.65095062e+00],\n",
       "       [ 1.05686379e+00,  1.32006221e+00,  3.13283500e-02],\n",
       "       [-1.25053543e+00,  1.23147082e+00,  3.96166396e-01],\n",
       "       [-1.31119717e+00, -4.26307489e-01, -1.73383261e-01],\n",
       "       [-4.41258038e-01, -9.58343706e-03, -1.92278754e-01],\n",
       "       [-3.43441956e-01,  1.04545590e+00,  6.65351111e-01],\n",
       "       [ 1.70803444e+00, -4.87268205e-01, -1.56595325e+00],\n",
       "       [-1.17814966e+00,  1.93672611e+00, -1.60820412e+00],\n",
       "       [ 8.09185923e-01,  9.67684848e-01, -8.42653065e-01],\n",
       "       [ 2.24330930e-01, -4.12985619e-01, -1.39479440e+00],\n",
       "       [-9.85383822e-02,  1.13336081e+00,  1.43667360e-01],\n",
       "       [ 3.52065944e-01,  1.81140910e-01, -6.65210033e-01],\n",
       "       [ 8.89206952e-01, -2.26766299e-01,  1.59611676e-01],\n",
       "       [-1.26021939e-01,  5.91906518e-01,  1.55057122e+00]])"
      ]
     },
     "execution_count": 333,
     "metadata": {},
     "output_type": "execute_result"
    }
   ],
   "source": [
    "scaler = StandardScaler()\n",
    "df = scaler.fit_transform(data[['f1','f2','f3']])\n",
    "df"
   ]
  },
  {
   "cell_type": "code",
   "execution_count": 337,
   "metadata": {},
   "outputs": [],
   "source": [
    "clf = linear_model.SGDClassifier(loss = 'log_loss')"
   ]
  },
  {
   "cell_type": "code",
   "execution_count": 338,
   "metadata": {},
   "outputs": [
    {
     "data": {
      "text/html": [
       "<style>#sk-container-id-79 {color: black;background-color: white;}#sk-container-id-79 pre{padding: 0;}#sk-container-id-79 div.sk-toggleable {background-color: white;}#sk-container-id-79 label.sk-toggleable__label {cursor: pointer;display: block;width: 100%;margin-bottom: 0;padding: 0.3em;box-sizing: border-box;text-align: center;}#sk-container-id-79 label.sk-toggleable__label-arrow:before {content: \"▸\";float: left;margin-right: 0.25em;color: #696969;}#sk-container-id-79 label.sk-toggleable__label-arrow:hover:before {color: black;}#sk-container-id-79 div.sk-estimator:hover label.sk-toggleable__label-arrow:before {color: black;}#sk-container-id-79 div.sk-toggleable__content {max-height: 0;max-width: 0;overflow: hidden;text-align: left;background-color: #f0f8ff;}#sk-container-id-79 div.sk-toggleable__content pre {margin: 0.2em;color: black;border-radius: 0.25em;background-color: #f0f8ff;}#sk-container-id-79 input.sk-toggleable__control:checked~div.sk-toggleable__content {max-height: 200px;max-width: 100%;overflow: auto;}#sk-container-id-79 input.sk-toggleable__control:checked~label.sk-toggleable__label-arrow:before {content: \"▾\";}#sk-container-id-79 div.sk-estimator input.sk-toggleable__control:checked~label.sk-toggleable__label {background-color: #d4ebff;}#sk-container-id-79 div.sk-label input.sk-toggleable__control:checked~label.sk-toggleable__label {background-color: #d4ebff;}#sk-container-id-79 input.sk-hidden--visually {border: 0;clip: rect(1px 1px 1px 1px);clip: rect(1px, 1px, 1px, 1px);height: 1px;margin: -1px;overflow: hidden;padding: 0;position: absolute;width: 1px;}#sk-container-id-79 div.sk-estimator {font-family: monospace;background-color: #f0f8ff;border: 1px dotted black;border-radius: 0.25em;box-sizing: border-box;margin-bottom: 0.5em;}#sk-container-id-79 div.sk-estimator:hover {background-color: #d4ebff;}#sk-container-id-79 div.sk-parallel-item::after {content: \"\";width: 100%;border-bottom: 1px solid gray;flex-grow: 1;}#sk-container-id-79 div.sk-label:hover label.sk-toggleable__label {background-color: #d4ebff;}#sk-container-id-79 div.sk-serial::before {content: \"\";position: absolute;border-left: 1px solid gray;box-sizing: border-box;top: 0;bottom: 0;left: 50%;z-index: 0;}#sk-container-id-79 div.sk-serial {display: flex;flex-direction: column;align-items: center;background-color: white;padding-right: 0.2em;padding-left: 0.2em;position: relative;}#sk-container-id-79 div.sk-item {position: relative;z-index: 1;}#sk-container-id-79 div.sk-parallel {display: flex;align-items: stretch;justify-content: center;background-color: white;position: relative;}#sk-container-id-79 div.sk-item::before, #sk-container-id-79 div.sk-parallel-item::before {content: \"\";position: absolute;border-left: 1px solid gray;box-sizing: border-box;top: 0;bottom: 0;left: 50%;z-index: -1;}#sk-container-id-79 div.sk-parallel-item {display: flex;flex-direction: column;z-index: 1;position: relative;background-color: white;}#sk-container-id-79 div.sk-parallel-item:first-child::after {align-self: flex-end;width: 50%;}#sk-container-id-79 div.sk-parallel-item:last-child::after {align-self: flex-start;width: 50%;}#sk-container-id-79 div.sk-parallel-item:only-child::after {width: 0;}#sk-container-id-79 div.sk-dashed-wrapped {border: 1px dashed gray;margin: 0 0.4em 0.5em 0.4em;box-sizing: border-box;padding-bottom: 0.4em;background-color: white;}#sk-container-id-79 div.sk-label label {font-family: monospace;font-weight: bold;display: inline-block;line-height: 1.2em;}#sk-container-id-79 div.sk-label-container {text-align: center;}#sk-container-id-79 div.sk-container {/* jupyter's `normalize.less` sets `[hidden] { display: none; }` but bootstrap.min.css set `[hidden] { display: none !important; }` so we also need the `!important` here to be able to override the default hidden behavior on the sphinx rendered scikit-learn.org. See: https://github.com/scikit-learn/scikit-learn/issues/21755 */display: inline-block !important;position: relative;}#sk-container-id-79 div.sk-text-repr-fallback {display: none;}</style><div id=\"sk-container-id-79\" class=\"sk-top-container\"><div class=\"sk-text-repr-fallback\"><pre>SGDClassifier(loss=&#x27;log_loss&#x27;)</pre><b>In a Jupyter environment, please rerun this cell to show the HTML representation or trust the notebook. <br />On GitHub, the HTML representation is unable to render, please try loading this page with nbviewer.org.</b></div><div class=\"sk-container\" hidden><div class=\"sk-item\"><div class=\"sk-estimator sk-toggleable\"><input class=\"sk-toggleable__control sk-hidden--visually\" id=\"sk-estimator-id-79\" type=\"checkbox\" checked><label for=\"sk-estimator-id-79\" class=\"sk-toggleable__label sk-toggleable__label-arrow\">SGDClassifier</label><div class=\"sk-toggleable__content\"><pre>SGDClassifier(loss=&#x27;log_loss&#x27;)</pre></div></div></div></div></div>"
      ],
      "text/plain": [
       "SGDClassifier(loss='log_loss')"
      ]
     },
     "execution_count": 338,
     "metadata": {},
     "output_type": "execute_result"
    }
   ],
   "source": [
    "clf.fit(X,Y)"
   ]
  },
  {
   "cell_type": "code",
   "execution_count": 339,
   "metadata": {},
   "outputs": [
    {
     "data": {
      "text/html": [
       "<div>\n",
       "<style scoped>\n",
       "    .dataframe tbody tr th:only-of-type {\n",
       "        vertical-align: middle;\n",
       "    }\n",
       "\n",
       "    .dataframe tbody tr th {\n",
       "        vertical-align: top;\n",
       "    }\n",
       "\n",
       "    .dataframe thead th {\n",
       "        text-align: right;\n",
       "    }\n",
       "</style>\n",
       "<table border=\"1\" class=\"dataframe\">\n",
       "  <thead>\n",
       "    <tr style=\"text-align: right;\">\n",
       "      <th></th>\n",
       "      <th>Features</th>\n",
       "      <th>weight</th>\n",
       "    </tr>\n",
       "  </thead>\n",
       "  <tbody>\n",
       "    <tr>\n",
       "      <th>2</th>\n",
       "      <td>f3</td>\n",
       "      <td>9993.761870</td>\n",
       "    </tr>\n",
       "    <tr>\n",
       "      <th>0</th>\n",
       "      <td>f1</td>\n",
       "      <td>-466.503807</td>\n",
       "    </tr>\n",
       "    <tr>\n",
       "      <th>1</th>\n",
       "      <td>f2</td>\n",
       "      <td>-2345.931502</td>\n",
       "    </tr>\n",
       "  </tbody>\n",
       "</table>\n",
       "</div>"
      ],
      "text/plain": [
       "  Features       weight\n",
       "2       f3  9993.761870\n",
       "0       f1  -466.503807\n",
       "1       f2 -2345.931502"
      ]
     },
     "execution_count": 339,
     "metadata": {},
     "output_type": "execute_result"
    }
   ],
   "source": [
    "coef = pd.DataFrame({'Features':data.iloc[:,:3].columns.tolist(),'weight':clf.coef_[0].tolist()})\n",
    "coef.sort_values('weight',ascending=False)"
   ]
  },
  {
   "cell_type": "code",
   "execution_count": 343,
   "metadata": {},
   "outputs": [],
   "source": [
    "clf = linear_model.SGDClassifier(loss = 'hinge')"
   ]
  },
  {
   "cell_type": "code",
   "execution_count": 344,
   "metadata": {},
   "outputs": [
    {
     "data": {
      "text/html": [
       "<style>#sk-container-id-81 {color: black;background-color: white;}#sk-container-id-81 pre{padding: 0;}#sk-container-id-81 div.sk-toggleable {background-color: white;}#sk-container-id-81 label.sk-toggleable__label {cursor: pointer;display: block;width: 100%;margin-bottom: 0;padding: 0.3em;box-sizing: border-box;text-align: center;}#sk-container-id-81 label.sk-toggleable__label-arrow:before {content: \"▸\";float: left;margin-right: 0.25em;color: #696969;}#sk-container-id-81 label.sk-toggleable__label-arrow:hover:before {color: black;}#sk-container-id-81 div.sk-estimator:hover label.sk-toggleable__label-arrow:before {color: black;}#sk-container-id-81 div.sk-toggleable__content {max-height: 0;max-width: 0;overflow: hidden;text-align: left;background-color: #f0f8ff;}#sk-container-id-81 div.sk-toggleable__content pre {margin: 0.2em;color: black;border-radius: 0.25em;background-color: #f0f8ff;}#sk-container-id-81 input.sk-toggleable__control:checked~div.sk-toggleable__content {max-height: 200px;max-width: 100%;overflow: auto;}#sk-container-id-81 input.sk-toggleable__control:checked~label.sk-toggleable__label-arrow:before {content: \"▾\";}#sk-container-id-81 div.sk-estimator input.sk-toggleable__control:checked~label.sk-toggleable__label {background-color: #d4ebff;}#sk-container-id-81 div.sk-label input.sk-toggleable__control:checked~label.sk-toggleable__label {background-color: #d4ebff;}#sk-container-id-81 input.sk-hidden--visually {border: 0;clip: rect(1px 1px 1px 1px);clip: rect(1px, 1px, 1px, 1px);height: 1px;margin: -1px;overflow: hidden;padding: 0;position: absolute;width: 1px;}#sk-container-id-81 div.sk-estimator {font-family: monospace;background-color: #f0f8ff;border: 1px dotted black;border-radius: 0.25em;box-sizing: border-box;margin-bottom: 0.5em;}#sk-container-id-81 div.sk-estimator:hover {background-color: #d4ebff;}#sk-container-id-81 div.sk-parallel-item::after {content: \"\";width: 100%;border-bottom: 1px solid gray;flex-grow: 1;}#sk-container-id-81 div.sk-label:hover label.sk-toggleable__label {background-color: #d4ebff;}#sk-container-id-81 div.sk-serial::before {content: \"\";position: absolute;border-left: 1px solid gray;box-sizing: border-box;top: 0;bottom: 0;left: 50%;z-index: 0;}#sk-container-id-81 div.sk-serial {display: flex;flex-direction: column;align-items: center;background-color: white;padding-right: 0.2em;padding-left: 0.2em;position: relative;}#sk-container-id-81 div.sk-item {position: relative;z-index: 1;}#sk-container-id-81 div.sk-parallel {display: flex;align-items: stretch;justify-content: center;background-color: white;position: relative;}#sk-container-id-81 div.sk-item::before, #sk-container-id-81 div.sk-parallel-item::before {content: \"\";position: absolute;border-left: 1px solid gray;box-sizing: border-box;top: 0;bottom: 0;left: 50%;z-index: -1;}#sk-container-id-81 div.sk-parallel-item {display: flex;flex-direction: column;z-index: 1;position: relative;background-color: white;}#sk-container-id-81 div.sk-parallel-item:first-child::after {align-self: flex-end;width: 50%;}#sk-container-id-81 div.sk-parallel-item:last-child::after {align-self: flex-start;width: 50%;}#sk-container-id-81 div.sk-parallel-item:only-child::after {width: 0;}#sk-container-id-81 div.sk-dashed-wrapped {border: 1px dashed gray;margin: 0 0.4em 0.5em 0.4em;box-sizing: border-box;padding-bottom: 0.4em;background-color: white;}#sk-container-id-81 div.sk-label label {font-family: monospace;font-weight: bold;display: inline-block;line-height: 1.2em;}#sk-container-id-81 div.sk-label-container {text-align: center;}#sk-container-id-81 div.sk-container {/* jupyter's `normalize.less` sets `[hidden] { display: none; }` but bootstrap.min.css set `[hidden] { display: none !important; }` so we also need the `!important` here to be able to override the default hidden behavior on the sphinx rendered scikit-learn.org. See: https://github.com/scikit-learn/scikit-learn/issues/21755 */display: inline-block !important;position: relative;}#sk-container-id-81 div.sk-text-repr-fallback {display: none;}</style><div id=\"sk-container-id-81\" class=\"sk-top-container\"><div class=\"sk-text-repr-fallback\"><pre>SGDClassifier()</pre><b>In a Jupyter environment, please rerun this cell to show the HTML representation or trust the notebook. <br />On GitHub, the HTML representation is unable to render, please try loading this page with nbviewer.org.</b></div><div class=\"sk-container\" hidden><div class=\"sk-item\"><div class=\"sk-estimator sk-toggleable\"><input class=\"sk-toggleable__control sk-hidden--visually\" id=\"sk-estimator-id-81\" type=\"checkbox\" checked><label for=\"sk-estimator-id-81\" class=\"sk-toggleable__label sk-toggleable__label-arrow\">SGDClassifier</label><div class=\"sk-toggleable__content\"><pre>SGDClassifier()</pre></div></div></div></div></div>"
      ],
      "text/plain": [
       "SGDClassifier()"
      ]
     },
     "execution_count": 344,
     "metadata": {},
     "output_type": "execute_result"
    }
   ],
   "source": [
    "clf.fit(X,Y)"
   ]
  },
  {
   "cell_type": "code",
   "execution_count": 345,
   "metadata": {},
   "outputs": [
    {
     "data": {
      "text/html": [
       "<div>\n",
       "<style scoped>\n",
       "    .dataframe tbody tr th:only-of-type {\n",
       "        vertical-align: middle;\n",
       "    }\n",
       "\n",
       "    .dataframe tbody tr th {\n",
       "        vertical-align: top;\n",
       "    }\n",
       "\n",
       "    .dataframe thead th {\n",
       "        text-align: right;\n",
       "    }\n",
       "</style>\n",
       "<table border=\"1\" class=\"dataframe\">\n",
       "  <thead>\n",
       "    <tr style=\"text-align: right;\">\n",
       "      <th></th>\n",
       "      <th>Features</th>\n",
       "      <th>weight</th>\n",
       "    </tr>\n",
       "  </thead>\n",
       "  <tbody>\n",
       "    <tr>\n",
       "      <th>2</th>\n",
       "      <td>f3</td>\n",
       "      <td>11139.796906</td>\n",
       "    </tr>\n",
       "    <tr>\n",
       "      <th>0</th>\n",
       "      <td>f1</td>\n",
       "      <td>2092.993004</td>\n",
       "    </tr>\n",
       "    <tr>\n",
       "      <th>1</th>\n",
       "      <td>f2</td>\n",
       "      <td>-5835.872247</td>\n",
       "    </tr>\n",
       "  </tbody>\n",
       "</table>\n",
       "</div>"
      ],
      "text/plain": [
       "  Features        weight\n",
       "2       f3  11139.796906\n",
       "0       f1   2092.993004\n",
       "1       f2  -5835.872247"
      ]
     },
     "execution_count": 345,
     "metadata": {},
     "output_type": "execute_result"
    }
   ],
   "source": [
    "coef = pd.DataFrame({'Features':data.iloc[:,:3].columns.tolist(),'weight':clf.coef_[0].tolist()})\n",
    "coef.sort_values('weight',ascending=False)"
   ]
  },
  {
   "cell_type": "markdown",
   "metadata": {},
   "source": [
    "***Observation***\n",
    "1. In both SVD with log_loss and SVD with hinge_loss after standardization the weight is f3>f1>f2\n",
    "2. So it is straight opposite to the variance value where f2>f1>f3"
   ]
  }
 ],
 "metadata": {
  "colab": {
   "name": "8B_LR_SVM.ipynb",
   "provenance": []
  },
  "kernelspec": {
   "display_name": "Python 3",
   "language": "python",
   "name": "python3"
  },
  "language_info": {
   "codemirror_mode": {
    "name": "ipython",
    "version": 3
   },
   "file_extension": ".py",
   "mimetype": "text/x-python",
   "name": "python",
   "nbconvert_exporter": "python",
   "pygments_lexer": "ipython3",
   "version": "3.8.8"
  }
 },
 "nbformat": 4,
 "nbformat_minor": 1
}
